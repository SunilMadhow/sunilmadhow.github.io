{
  "cells": [
    {
      "cell_type": "markdown",
      "metadata": {},
      "source": [
        "---\n",
        "title: \"Hi, I'm Sunil\"\n",
        "format:\n",
        "  html:\n",
        "    toc: true\n",
        "---\n",
        "\n",
        "<img src=\"headshot.jpg\" alt=\"Sunil Madhow headshot\" style=\"max-width: 160px; border-radius: 12px; margin-bottom: 0.5rem;\">\n",
        "\n",
        "I'm a PhD student at **UC San Diego (Halıcıoğlu Data Science Institute)**. I work on **statistical learning theory** and **adaptive algorithms** for real-world data, with interests in **offline reinforcement learning**, **non-parametric regression**, and **online learning**.\n",
        "\n",
        "- 📬 Email: <smadhow@ucsd.edu>\n",
        "- 🔗 Links: [Google Scholar](#), [GitHub](https://github.com/SunilMadhow), [LinkedIn](https://www.linkedin.com/in/sunil-madhow)\n",
        "- 🧪 Research areas: offline RL, non-parametric regression, statistical learning theory, high-dimensional statistics, control & information theory.\n",
        "\n",
        "### Math works out of the box\n",
        "\n",
        "Inline: $E=mc^2$. Display:\n",
        "\n",
        "$$\n",
        "\\int_0^1 x^2\\,dx = \\frac{1}{3}.\n",
        "$$\n",
        "\n",
        "### Code cells (optional)"
      ],
      "id": "545409b6"
    },
    {
      "cell_type": "code",
      "metadata": {},
      "source": [
        "sum(i*i for i in range(6))"
      ],
      "id": "dcc5b7ff",
      "execution_count": null,
      "outputs": []
    }
  ],
  "metadata": {
    "kernelspec": {
      "name": "myenv",
      "language": "python",
      "display_name": "Python (myenv)",
      "path": "/Users/sunilmadhow/Library/Jupyter/kernels/myenv"
    }
  },
  "nbformat": 4,
  "nbformat_minor": 5
}